{
 "cells": [
  {
   "cell_type": "markdown",
   "metadata": {},
   "source": [
    "# Quiz 6\n",
    "\n",
    "BEFORE YOU START THIS QUIZ:\n",
    "\n",
    "1. Click on \"Copy to Drive\" to make a copy of the quiz,\n",
    "\n",
    "2. Click on \"Share\",\n",
    "    \n",
    "3. Click on \"Change\" and select \"Anyone with this link can edit\"\n",
    "    \n",
    "4. Click \"Copy link\" and\n",
    "\n",
    "5. Paste the link into [this Canvas assignment](https://canvas.olin.edu/courses/313/assignments/5138). "
   ]
  },
  {
   "cell_type": "markdown",
   "metadata": {},
   "source": [
    "This quiz is open notes, open internet. \n",
    "\n",
    "* You can ask for help from the instructor, but not from anyone else.\n",
    "\n",
    "* You can use code you find on the internet, but if you use more than a couple of lines from a single source, you should attribute the source.\n",
    "\n"
   ]
  },
  {
   "cell_type": "markdown",
   "metadata": {},
   "source": [
    "## A tree of sequences\n",
    "\n",
    "Suppose you have a large number of DNA sequences, represented using strings containing the characters `A`, `C`, `G`, and `T`, which are the bases that make up DNA.\n",
    "\n",
    "One way to store these sequences is in a tree where each node has four children, one for each base.\n",
    "Here's a class definition for such a node."
   ]
  },
  {
   "cell_type": "code",
   "execution_count": 38,
   "metadata": {
    "tags": []
   },
   "outputs": [],
   "source": [
    "class Node:\n",
    "    def __init__(self):\n",
    "        self.children = [None, None, None, None]\n",
    "        self.end = False\n",
    "        \n",
    "    def __repr__(self):\n",
    "        return f'Node({self.end}, {self.children})'"
   ]
  },
  {
   "cell_type": "markdown",
   "metadata": {},
   "source": [
    "The instance variables are:\n",
    "\n",
    "* `children`, which is a list of four `Node` objects, where `None` indicates that a child is missing.\n",
    "\n",
    "* `end`: which is a `bool` that indicates whether this `Node` represents the end of a sequence.\n",
    " \n",
    "I'll use the following dictionary to map from each base to its index in the list of children."
   ]
  },
  {
   "cell_type": "code",
   "execution_count": 39,
   "metadata": {},
   "outputs": [],
   "source": [
    "index_map = dict(A=0, C=1, G=2, T=3)\n",
    "index_map"
   ]
  },
  {
   "cell_type": "markdown",
   "metadata": {},
   "source": [
    "The following function inserts a new sequence into the tree."
   ]
  },
  {
   "cell_type": "code",
   "execution_count": 40,
   "metadata": {
    "tags": []
   },
   "outputs": [],
   "source": [
    "def insert(root, sequence):\n",
    "    node = root\n",
    "    for base in sequence:\n",
    "        i = index_map[base]\n",
    "        if node.children[i] is None:\n",
    "            node.children[i] = Node()\n",
    "        node = node.children[i]\n",
    "    node.end = True"
   ]
  },
  {
   "cell_type": "markdown",
   "metadata": {},
   "source": [
    "As an example, here's a tree that contains only one sequence, `CA`."
   ]
  },
  {
   "cell_type": "code",
   "execution_count": 41,
   "metadata": {},
   "outputs": [],
   "source": [
    "node = Node()\n",
    "insert(node, 'CA')\n",
    "node"
   ]
  },
  {
   "cell_type": "markdown",
   "metadata": {},
   "source": [
    "The root of the tree has a single child, at index `1`."
   ]
  },
  {
   "cell_type": "code",
   "execution_count": 42,
   "metadata": {},
   "outputs": [],
   "source": [
    "child = node.children[1]\n",
    "child"
   ]
  },
  {
   "cell_type": "markdown",
   "metadata": {},
   "source": [
    "The child has a single child, at index `0`."
   ]
  },
  {
   "cell_type": "code",
   "execution_count": 43,
   "metadata": {},
   "outputs": [],
   "source": [
    "grandchild = child.children[0]\n",
    "grandchild"
   ]
  },
  {
   "cell_type": "markdown",
   "metadata": {},
   "source": [
    "In the grandchild, `end` is `True`, which indicates that there is a sequence in the tree that ends at this node.\n",
    "\n",
    "Here's an example with more sequences."
   ]
  },
  {
   "cell_type": "code",
   "execution_count": 44,
   "metadata": {},
   "outputs": [],
   "source": [
    "tree = Node()\n",
    "for sequence in ['ACGT', 'ACAT', 'CAT', 'CATATTAC']:\n",
    "    insert(tree, sequence)"
   ]
  },
  {
   "cell_type": "markdown",
   "metadata": {},
   "source": [
    "I'll use NetworkX and EoN to draw this tree. "
   ]
  },
  {
   "cell_type": "code",
   "execution_count": 45,
   "metadata": {},
   "outputs": [],
   "source": [
    "try:\n",
    "    import EoN\n",
    "except ImportError:\n",
    "    !pip install EoN"
   ]
  },
  {
   "cell_type": "code",
   "execution_count": 46,
   "metadata": {},
   "outputs": [],
   "source": [
    "import networkx as nx\n",
    "\n",
    "def add_edges(parent, G):\n",
    "    \"\"\"Traverse the tree and add edges to G.\"\"\"\n",
    "    for child in parent.children:\n",
    "        if child:\n",
    "            G.add_edge(parent, child)\n",
    "            add_edges(child, G)"
   ]
  },
  {
   "cell_type": "code",
   "execution_count": 47,
   "metadata": {},
   "outputs": [],
   "source": [
    "G = nx.DiGraph()\n",
    "add_edges(tree, G)"
   ]
  },
  {
   "cell_type": "code",
   "execution_count": 48,
   "metadata": {},
   "outputs": [],
   "source": [
    "def get_labels(parent, labels):\n",
    "    \"\"\"Traverse the tree and add node labels to a dictionary.\"\"\"\n",
    "    if parent.end:\n",
    "        labels[parent] = '*'\n",
    "    else:\n",
    "        labels[parent] = ''\n",
    "        \n",
    "    for child in parent.children:\n",
    "        if child:\n",
    "            get_labels(child, labels)"
   ]
  },
  {
   "cell_type": "code",
   "execution_count": 49,
   "metadata": {},
   "outputs": [],
   "source": [
    "def get_edge_labels(parent, edge_labels):\n",
    "    \"\"\"Traverse the tree and add edge labels to a dictionary.\"\"\"\n",
    "    bases = 'ACGT'\n",
    "    for i, child in enumerate(parent.children):\n",
    "        if child:\n",
    "            edge_labels[parent, child] = bases[i]\n",
    "            get_edge_labels(child, edge_labels)"
   ]
  },
  {
   "cell_type": "code",
   "execution_count": 50,
   "metadata": {},
   "outputs": [],
   "source": [
    "from EoN import hierarchy_pos\n",
    "\n",
    "def draw_tree(tree):\n",
    "    G = nx.DiGraph()\n",
    "    add_edges(tree, G)\n",
    "    pos = hierarchy_pos(G)\n",
    "    labels = {}\n",
    "    get_labels(tree, labels)\n",
    "    edge_labels = {}\n",
    "    get_edge_labels(tree, edge_labels)\n",
    "    nx.draw(G, pos, labels=labels, alpha=0.4)\n",
    "    nx.draw_networkx_edge_labels(G, pos, \n",
    "                                 edge_labels=edge_labels, \n",
    "                                 font_color='C1')"
   ]
  },
  {
   "cell_type": "code",
   "execution_count": 51,
   "metadata": {},
   "outputs": [],
   "source": [
    "draw_tree(tree)"
   ]
  },
  {
   "cell_type": "markdown",
   "metadata": {},
   "source": [
    "## Question 1\n",
    "\n",
    "Write a function called `find` that takes as parameters\n",
    "\n",
    "* A `Node` that represents the root of a tree and \n",
    "\n",
    "* A string representing a sequence of bases.\n",
    "\n",
    "It should return `True` if the sequence appears in the tree, and `False` otherwise."
   ]
  },
  {
   "cell_type": "code",
   "execution_count": 52,
   "metadata": {},
   "outputs": [],
   "source": []
  },
  {
   "cell_type": "markdown",
   "metadata": {},
   "source": [
    "You can use the following examples to test your code:"
   ]
  },
  {
   "cell_type": "code",
   "execution_count": 53,
   "metadata": {},
   "outputs": [],
   "source": [
    "find(tree, 'CAT')  # should be True"
   ]
  },
  {
   "cell_type": "code",
   "execution_count": 54,
   "metadata": {},
   "outputs": [],
   "source": [
    "find(tree, 'ACAT') # should be True"
   ]
  },
  {
   "cell_type": "code",
   "execution_count": 55,
   "metadata": {},
   "outputs": [],
   "source": [
    "find(tree, 'TAG') # should be False"
   ]
  },
  {
   "cell_type": "code",
   "execution_count": 56,
   "metadata": {},
   "outputs": [],
   "source": [
    "find(tree, 'CA') # should be False"
   ]
  },
  {
   "cell_type": "markdown",
   "metadata": {},
   "source": [
    "## Question 2\n",
    "\n",
    "Write a function called `find_all_rec` that takes as parameters:\n",
    "\n",
    "* A `Node` in a tree.\n",
    "\n",
    "* A path that indicates the sequence of bases from the root to the current `Node`.\n",
    "\n",
    "* A list of sequences.\n",
    "\n",
    "This function should traverse the tree and add to the list all of the complete sequences it discovers.\n",
    "\n",
    "Hint: Review `make_table` from `huffman.ipynb`."
   ]
  },
  {
   "cell_type": "code",
   "execution_count": 57,
   "metadata": {},
   "outputs": [],
   "source": []
  },
  {
   "cell_type": "markdown",
   "metadata": {},
   "source": [
    "You can use the following example to test your code."
   ]
  },
  {
   "cell_type": "code",
   "execution_count": 58,
   "metadata": {},
   "outputs": [],
   "source": [
    "t = []\n",
    "find_all_rec(tree, '', t)\n",
    "t"
   ]
  },
  {
   "cell_type": "markdown",
   "metadata": {},
   "source": [
    "The result should be a list with the following elements, not necessarily in this order\n",
    "\n",
    "```\n",
    "['ACAT', 'ACGT', 'CAT', 'CATATTAC']\n",
    "```\n"
   ]
  },
  {
   "cell_type": "markdown",
   "metadata": {},
   "source": [
    "## Question 3\n",
    "\n",
    "Write a function called `find_all` that takes a `Node` and a sequence of bases. It should traverse the tree and return a list that contains all sequences in the tree that begin with the given prefix.\n",
    "\n",
    "Note: You can use `find_all_rec` as part of your solution even if your answer to the previous question does not work."
   ]
  },
  {
   "cell_type": "code",
   "execution_count": 60,
   "metadata": {},
   "outputs": [],
   "source": []
  },
  {
   "cell_type": "markdown",
   "metadata": {},
   "source": [
    "You can use the following examples to test your code."
   ]
  },
  {
   "cell_type": "code",
   "execution_count": 61,
   "metadata": {},
   "outputs": [],
   "source": [
    "find_all(tree, 'CA')   # Should return ['CAT', 'CATATTAC']"
   ]
  },
  {
   "cell_type": "code",
   "execution_count": 62,
   "metadata": {},
   "outputs": [],
   "source": [
    "find_all(tree, 'A')    # Should return ['ACAT', 'ACGT']"
   ]
  },
  {
   "cell_type": "code",
   "execution_count": 63,
   "metadata": {},
   "outputs": [],
   "source": [
    "find_all(tree, '')     # Should return all sequences in the tree"
   ]
  },
  {
   "cell_type": "markdown",
   "metadata": {},
   "source": [
    "## Question 4\n",
    "\n",
    "Suppose we write a more general version of `Node.__init__` that takes `end` and `children` as optional parameters."
   ]
  },
  {
   "cell_type": "code",
   "execution_count": 64,
   "metadata": {
    "tags": []
   },
   "outputs": [],
   "source": [
    "class BadNode:\n",
    "    def __init__(self, end=True, children=[None, None, None, None]):\n",
    "        self.children = children\n",
    "        self.end = end\n",
    "        \n",
    "    def __repr__(self):\n",
    "        return f'Node({self.end}, {self.children})'"
   ]
  },
  {
   "cell_type": "markdown",
   "metadata": {},
   "source": [
    "And we write a version of `insert` that uses `BadNode`:"
   ]
  },
  {
   "cell_type": "code",
   "execution_count": 65,
   "metadata": {
    "tags": []
   },
   "outputs": [],
   "source": [
    "def bad_insert(root, sequence):\n",
    "    node = root\n",
    "    for base in sequence:\n",
    "        i = index_map[base]\n",
    "        if node.children[i] is None:\n",
    "            node.children[i] = BadNode(end=False)\n",
    "        node = node.children[i]\n",
    "    node.end = True"
   ]
  },
  {
   "cell_type": "markdown",
   "metadata": {},
   "source": [
    "If we use the new versions to make a tree, like this:"
   ]
  },
  {
   "cell_type": "code",
   "execution_count": 66,
   "metadata": {},
   "outputs": [],
   "source": [
    "tree2 = BadNode()\n",
    "for sequence in ['ACGT', 'ACAT', 'CAT', 'CATATTAC']:\n",
    "    bad_insert(tree2, sequence)"
   ]
  },
  {
   "cell_type": "markdown",
   "metadata": {},
   "source": [
    "It seems to work. But if we draw the tree, we get a `RecursionError`."
   ]
  },
  {
   "cell_type": "code",
   "execution_count": 67,
   "metadata": {},
   "outputs": [],
   "source": [
    "draw_tree(tree2)"
   ]
  },
  {
   "cell_type": "markdown",
   "metadata": {},
   "source": [
    "In the cell that defines `BadNode`, write a comment that explains what the problem is, and then fix it.\n",
    "\n",
    "Note: Your fixed version should still accept `end` and `children` as optional parameters."
   ]
  },
  {
   "cell_type": "markdown",
   "metadata": {},
   "source": [
    "*Data Structures and Information Retrieval in Python*\n",
    "\n",
    "Copyright 2021 Allen Downey\n",
    "\n",
    "License: [Creative Commons Attribution-NonCommercial-ShareAlike 4.0 International](https://creativecommons.org/licenses/by-nc-sa/4.0/)"
   ]
  },
  {
   "cell_type": "code",
   "execution_count": null,
   "metadata": {},
   "outputs": [],
   "source": []
  }
 ],
 "metadata": {
  "kernelspec": {
   "display_name": "Python 3",
   "language": "python",
   "name": "python3"
  },
  "language_info": {
   "codemirror_mode": {
    "name": "ipython",
    "version": 3
   },
   "file_extension": ".py",
   "mimetype": "text/x-python",
   "name": "python",
   "nbconvert_exporter": "python",
   "pygments_lexer": "ipython3",
   "version": "3.9.4"
  }
 },
 "nbformat": 4,
 "nbformat_minor": 4
}
